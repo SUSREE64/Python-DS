{
  "cells":[
    {
      "cell_type":"markdown",
      "source":[
        "<h2 style=\"text-align:center; color:rgb(113, 163, 242); font-size: 32px\">Learning Python - Basic Operators<\/h2>"
      ],
      "metadata":{
        
      }
    },
    {
      "cell_type":"markdown",
      "source":[
        "<p>Operators are the constructs which can manipulate the value of operands.<\/p>"
      ],
      "metadata":{
        
      }
    },
    {
      "cell_type":"markdown",
      "source":[
        "\n",
        "<h3 style = color:rgb(113,163,242)> Python has the following Operators<\/h3>\n",
        "    <ul type = \"square\">\n",
        "        <li> Arithmetic Operators <\/li>\n",
        "        <li> Comparison (Relational) Operators <\/li>\n",
        "        <li> Assignment Operators <\/li>\n",
        "        <li> Logical Operators <\/li>\n",
        "        <li> Bitwise Operators<\/li>\n",
        "        <li> Membership Operators<\/li>\n",
        "        <li> Identity Operators<\/li>\n",
        "    <\/ul>\n",
        " "
      ],
      "metadata":{
        
      }
    },
    {
      "cell_type":"markdown",
      "source":[
        "<h3 style = \"color:rgb(113, 163, 242)\">Python Arithmetic Operators<\/h3>"
      ],
      "metadata":{
        
      }
    },
    {
      "cell_type":"code",
      "source":[
        "# Addition operation with +\n",
        "10+20"
      ],
      "execution_count":null,
      "outputs":[
        
      ],
      "metadata":{
        
      }
    },
    {
      "cell_type":"code",
      "source":[
        "# String concatenation with + ( Operator overloading)\n",
        "'she' + \" loves \" + ' me!'"
      ],
      "execution_count":null,
      "outputs":[
        
      ],
      "metadata":{
        
      }
    },
    {
      "cell_type":"code",
      "source":[
        "# Subtraction operation with -\n",
        "20-10"
      ],
      "execution_count":null,
      "outputs":[
        
      ],
      "metadata":{
        
      }
    },
    {
      "cell_type":"code",
      "source":[
        "# Multiplication\n",
        "20*30"
      ],
      "execution_count":null,
      "outputs":[
        
      ],
      "metadata":{
        
      }
    },
    {
      "cell_type":"code",
      "source":[
        "# Note here a multiplication operation on a string (Operator overloading)\n",
        "5*'Hi! '"
      ],
      "execution_count":null,
      "outputs":[
        
      ],
      "metadata":{
        
      }
    },
    {
      "cell_type":"code",
      "source":[
        "# Division operation\n",
        "20\/5"
      ],
      "execution_count":null,
      "outputs":[
        
      ],
      "metadata":{
        
      }
    },
    {
      "cell_type":"code",
      "source":[
        "# Floor Division\n",
        "20\/\/3 # This returns the integer portion of the division"
      ],
      "execution_count":null,
      "outputs":[
        
      ],
      "metadata":{
        
      }
    },
    {
      "cell_type":"code",
      "source":[
        "# Modulus operation ( Reminder of a division)\n",
        "10%3 # reminder here is 1"
      ],
      "execution_count":null,
      "outputs":[
        
      ],
      "metadata":{
        
      }
    },
    {
      "cell_type":"code",
      "source":[
        "#Exponent or to the power of\n",
        "2**3"
      ],
      "execution_count":null,
      "outputs":[
        
      ],
      "metadata":{
        
      }
    },
    {
      "cell_type":"code",
      "source":[
        "# Trick to have  root value with the exponent operator\n",
        "4**0.5"
      ],
      "execution_count":null,
      "outputs":[
        
      ],
      "metadata":{
        
      }
    },
    {
      "cell_type":"markdown",
      "source":[
        "<h3 style = \"color:rgb(113, 163, 242)\">Python Comparrison Operators<\/h3>"
      ],
      "metadata":{
        
      }
    },
    {
      "cell_type":"code",
      "source":[
        "# Are theY equal,if yes returns true or returns false\n",
        "20 == 10"
      ],
      "execution_count":null,
      "outputs":[
        
      ],
      "metadata":{
        
      }
    },
    {
      "cell_type":"code",
      "source":[
        "10==10"
      ],
      "execution_count":null,
      "outputs":[
        
      ],
      "metadata":{
        
      }
    },
    {
      "cell_type":"code",
      "source":[
        "# Are they not equal?. if yes returns true, or false\n",
        "34 != 43"
      ],
      "execution_count":null,
      "outputs":[
        
      ],
      "metadata":{
        
      }
    },
    {
      "cell_type":"code",
      "source":[
        "34 != 34"
      ],
      "execution_count":null,
      "outputs":[
        
      ],
      "metadata":{
        
      }
    },
    {
      "cell_type":"code",
      "source":[
        "# Greater than >\n",
        "10>5"
      ],
      "execution_count":null,
      "outputs":[
        
      ],
      "metadata":{
        
      }
    },
    {
      "cell_type":"code",
      "source":[
        "#Less than <\n",
        "5<10"
      ],
      "execution_count":null,
      "outputs":[
        
      ],
      "metadata":{
        
      }
    },
    {
      "cell_type":"code",
      "source":[
        "# Greater than or equal to\n",
        "10 >= 3"
      ],
      "execution_count":null,
      "outputs":[
        
      ],
      "metadata":{
        
      }
    },
    {
      "cell_type":"code",
      "source":[
        "# less than or equal to \n",
        "5 <=5"
      ],
      "execution_count":null,
      "outputs":[
        
      ],
      "metadata":{
        
      }
    },
    {
      "cell_type":"markdown",
      "source":[
        "<h3 style = \"color:rgb(113, 163, 242)\">Python Assignment Operators<\/h3>"
      ],
      "metadata":{
        
      }
    },
    {
      "cell_type":"code",
      "source":[
        "# Assigning a value to variable\n",
        "a = 10 #a is variable or a placeholder and it is assigned with value 10\n",
        "print(a)"
      ],
      "execution_count":null,
      "outputs":[
        
      ],
      "metadata":{
        
      }
    },
    {
      "cell_type":"code",
      "source":[
        "a = 10\n",
        "b = 20\n",
        "b = a \n",
        "# what is b value ? Note leftside operand is assigned with righside operand value\n",
        "print(b)"
      ],
      "execution_count":null,
      "outputs":[
        
      ],
      "metadata":{
        
      }
    },
    {
      "cell_type":"code",
      "source":[
        "# += Add and assign operation\n",
        "a = 100\n",
        "b = 20\n",
        "b += a # This equivalent to b = b+a a added to b and reassigned to b\n",
        "b"
      ],
      "execution_count":null,
      "outputs":[
        
      ],
      "metadata":{
        
      }
    },
    {
      "cell_type":"code",
      "source":[
        "# -= subtract and  assign operation\n",
        "a = 20\n",
        "b = 30\n",
        "b -= a # b is reassiged with b-a\n",
        "b"
      ],
      "execution_count":null,
      "outputs":[
        
      ],
      "metadata":{
        
      }
    },
    {
      "cell_type":"code",
      "source":[
        "# *= multiply and assign operation\n",
        "a = 20\n",
        "b = 10\n",
        "a *=b # Equalent to a = a*b\n",
        "a"
      ],
      "execution_count":null,
      "outputs":[
        
      ],
      "metadata":{
        
      }
    },
    {
      "cell_type":"code",
      "source":[
        "# \/= divide and assign operation\n",
        "a = 10\n",
        "b = 2\n",
        "a \/=b # Equivalent to a = a\/b\n",
        "a"
      ],
      "execution_count":null,
      "outputs":[
        
      ],
      "metadata":{
        
      }
    },
    {
      "cell_type":"code",
      "source":[
        "# %= Modulus and assign operation\n",
        "a = 20\n",
        "b = 3\n",
        "a %=b # equivalent to a = a%b\n",
        "a"
      ],
      "execution_count":null,
      "outputs":[
        
      ],
      "metadata":{
        
      }
    },
    {
      "cell_type":"code",
      "source":[
        "#\/\/= Floor division and assign operation\n",
        "a = 30\n",
        "b =5\n",
        "a \/\/=b\n",
        "a"
      ],
      "execution_count":null,
      "outputs":[
        
      ],
      "metadata":{
        
      }
    },
    {
      "cell_type":"code",
      "source":[
        "# **= exponent and assign operation\n",
        "a = 4\n",
        "b = 2\n",
        "b **= a\n",
        "b"
      ],
      "execution_count":null,
      "outputs":[
        
      ],
      "metadata":{
        
      }
    },
    {
      "cell_type":"markdown",
      "source":[
        "<h3 style = \"color:rgb(113, 163, 242)\">Python Bitwise  Operators<\/h3>"
      ],
      "metadata":{
        
      }
    },
    {
      "cell_type":"code",
      "source":[
        "#Bitwise operators work on binary bits  performs bit by bit operation.\n",
        "# AND operation \n",
        "2 & 3\n",
        "# 2 = 0010\n",
        "# 3 = 0011\n",
        "# &--------\n",
        "#     0010\n",
        "#this is equivalent to 2"
      ],
      "execution_count":null,
      "outputs":[
        
      ],
      "metadata":{
        
      }
    },
    {
      "cell_type":"code",
      "source":[
        "# OR Operation \n",
        "3 | 2\n",
        "#3 = 0011\n",
        "#2 = 0010\n",
        "#|---------\n",
        "#    0011 \n",
        "# This is equivalent to 3"
      ],
      "execution_count":null,
      "outputs":[
        
      ],
      "metadata":{
        
      }
    },
    {
      "cell_type":"code",
      "source":[
        "\"\"\"This one is a bit different from what we’ve studied so far. This operator takes a number’s binary, and returns \n",
        "    its one’s complement. For this, it flips the bits until it reaches the first 0 from right. \n",
        "    ~x is the same as -x-1 \"\"\"\n",
        "~ 1\n",
        "#1 = 0001\n",
        "#~ -------\n",
        "#    1110\n",
        "#    0010\n",
        "# "
      ],
      "execution_count":null,
      "outputs":[
        
      ],
      "metadata":{
        
      }
    },
    {
      "cell_type":"code",
      "source":[
        "# Another example\n",
        "~10 # this is -10+1 = -11"
      ],
      "execution_count":null,
      "outputs":[
        
      ],
      "metadata":{
        
      }
    },
    {
      "cell_type":"code",
      "source":[
        "# << Binary Left Shifting of bits\n",
        "5<<1 # one bit left shift doubles the decimal number\n",
        "#5 = 0101\n",
        "#<< -----\n",
        "#  0 1010 This is equivalent to 10"
      ],
      "execution_count":null,
      "outputs":[
        
      ],
      "metadata":{
        
      }
    },
    {
      "cell_type":"code",
      "source":[
        "# << Binary Left Shifting of bits\n",
        "5<<2 # two bits left shift\n",
        "#5 = 0101\n",
        "#<< -----\n",
        "#  0 1010\n",
        "#<<01 0101 This is equivalent to 20"
      ],
      "execution_count":null,
      "outputs":[
        
      ],
      "metadata":{
        
      }
    },
    {
      "cell_type":"code",
      "source":[
        "# >> Binary right Shifting of bits\n",
        "10 >> 1 # Right shift one bit\n",
        "#10 = 0000 1010\n",
        "#>> = 0000 0101 This is equivalent to 5"
      ],
      "execution_count":null,
      "outputs":[
        
      ],
      "metadata":{
        
      }
    },
    {
      "cell_type":"code",
      "source":[
        "10>>2\n",
        "#10  0000 1010\n",
        "#>>  0000 0101\n",
        "#>>  0000 0010 This is equivalent to 2"
      ],
      "execution_count":null,
      "outputs":[
        
      ],
      "metadata":{
        
      }
    },
    {
      "cell_type":"markdown",
      "source":[
        "<h3 style = \"color:rgb(113, 163, 242)\">Python Logical  Operators<\/h3>"
      ],
      "metadata":{
        
      }
    },
    {
      "cell_type":"code",
      "source":[
        "# Logical AND operation\n",
        "# if both the conditions are ture the result would be true\n",
        "x = 5\n",
        "y = 3\n",
        "(x>y)and (y<x)"
      ],
      "execution_count":null,
      "outputs":[
        
      ],
      "metadata":{
        
      }
    },
    {
      "cell_type":"code",
      "source":[
        "# Logical NOT operation\n",
        "# This is just negation\n",
        "x = 10\n",
        "not(x==10) # not of true is false not of false is true"
      ],
      "execution_count":null,
      "outputs":[
        
      ],
      "metadata":{
        
      }
    },
    {
      "cell_type":"code",
      "source":[
        "#Logical OR operation\n",
        "# if either of the conditions is true the result would be true\n",
        "x = 10; y = 3\n",
        "(x>y)or(y>10)"
      ],
      "execution_count":null,
      "outputs":[
        
      ],
      "metadata":{
        
      }
    },
    {
      "cell_type":"markdown",
      "source":[
        "<h3 style = \"color:rgb(113, 163, 242)\">Python Identity  Operators<\/h3>"
      ],
      "metadata":{
        
      }
    },
    {
      "cell_type":"code",
      "source":[
        "x = 10; y = 10\n",
        "x is y"
      ],
      "execution_count":null,
      "outputs":[
        
      ],
      "metadata":{
        
      }
    },
    {
      "cell_type":"code",
      "source":[
        "x is not y"
      ],
      "execution_count":null,
      "outputs":[
        
      ],
      "metadata":{
        
      }
    },
    {
      "cell_type":"markdown",
      "source":[
        "<h3 style = \"color:rgb(113, 163, 242)\">Python Membership  Operators<\/h3>"
      ],
      "metadata":{
        
      }
    },
    {
      "cell_type":"code",
      "source":[
        "# in operator\n",
        "x = [1,2,3,5]\n",
        "3 in x"
      ],
      "execution_count":null,
      "outputs":[
        
      ],
      "metadata":{
        
      }
    },
    {
      "cell_type":"code",
      "source":[
        "10 not in x"
      ],
      "execution_count":null,
      "outputs":[
        
      ],
      "metadata":{
        
      }
    },
    {
      "cell_type":"code",
      "source":[
        "1 not in x"
      ],
      "execution_count":null,
      "outputs":[
        
      ],
      "metadata":{
        
      }
    },
    {
      "cell_type":"code",
      "source":[
        
      ],
      "execution_count":null,
      "outputs":[
        
      ],
      "metadata":{
        
      }
    }
  ],
  "metadata":{
    
  },
  "nbformat":4,
  "nbformat_minor":0
}