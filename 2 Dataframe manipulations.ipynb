{
  "cells":[
    {
      "cell_type":"markdown",
      "source":[
        "### Dataframe Manipulations"
      ],
      "metadata":{
        
      }
    },
    {
      "cell_type":"code",
      "source":[
        "#library Importing\n",
        "import pandas as pd\n",
        "import numpy as np"
      ],
      "execution_count":1,
      "outputs":[
        
      ],
      "metadata":{
        
      }
    },
    {
      "cell_type":"code",
      "source":[
        "# Reading the data to dataframe df\n",
        "df = pd.read_csv(\"Iris.csv\")"
      ],
      "execution_count":2,
      "outputs":[
        {
          "ename":"FileNotFoundError",
          "evalue":"FileNotFoundError: [Errno 2] File Iris.csv does not exist: 'Iris.csv'",
          "traceback":[
            "\u001b[0;31m---------------------------------------------------------------------------",
            "Traceback (most recent call last)",
            "    at line 2 in <module>",
            "FileNotFoundError: [Errno 2] File Iris.csv does not exist: 'Iris.csv'"
          ],
          "output_type":"error"
        }
      ],
      "metadata":{
        
      }
    },
    {
      "cell_type":"code",
      "source":[
        "# How many columns \n",
        "len(df.columns)"
      ],
      "execution_count":0,
      "outputs":[
        
      ],
      "metadata":{
        
      }
    },
    {
      "cell_type":"code",
      "source":[
        "#What are they\n",
        "list(df.columns)"
      ],
      "execution_count":0,
      "outputs":[
        
      ],
      "metadata":{
        
      }
    },
    {
      "cell_type":"markdown",
      "source":[
        "### Indexing columns various approaches"
      ],
      "metadata":{
        
      }
    },
    {
      "cell_type":"markdown",
      "source":[
        "\n",
        "####  .Dot notation "
      ],
      "metadata":{
        
      }
    },
    {
      "cell_type":"code",
      "source":[
        "#Selecting columns wiht .dot notation\n",
        "# head is used to just limit the display area here\n",
        "df.Id.head()"
      ],
      "execution_count":0,
      "outputs":[
        
      ],
      "metadata":{
        
      }
    },
    {
      "cell_type":"code",
      "source":[
        "df.SepalLengthCm.head()"
      ],
      "execution_count":0,
      "outputs":[
        
      ],
      "metadata":{
        
      }
    },
    {
      "cell_type":"markdown",
      "source":[
        "#### Bracket Notation and the names "
      ],
      "metadata":{
        
      }
    },
    {
      "cell_type":"code",
      "source":[
        "#Selecting the columns with bracket and name notation\n",
        "df['Id'].head()"
      ],
      "execution_count":0,
      "outputs":[
        
      ],
      "metadata":{
        
      }
    },
    {
      "cell_type":"code",
      "source":[
        "df['SepalLengthCm'].head()"
      ],
      "execution_count":0,
      "outputs":[
        
      ],
      "metadata":{
        
      }
    },
    {
      "cell_type":"code",
      "source":[
        "# Selecting multiple columns from a dataframe\n",
        "df[['Id', 'SepalLengthCm']]. head() # Notice to use double square brackets"
      ],
      "execution_count":0,
      "outputs":[
        
      ],
      "metadata":{
        
      }
    },
    {
      "cell_type":"markdown",
      "source":[
        "#### iloc()  Single columns"
      ],
      "metadata":{
        
      }
    },
    {
      "cell_type":"code",
      "source":[
        "# Generic sysntax of iloc()\n",
        "#data.iloc[<row selection>,<column selection>]\n",
        "# Selecting just second column \n",
        "\n",
        "df.iloc[:,1].head() # Note python is 0 indexed hence 1 represents second collumn"
      ],
      "execution_count":0,
      "outputs":[
        
      ],
      "metadata":{
        
      }
    },
    {
      "cell_type":"code",
      "source":[
        "x = df.iloc[:,1]\n",
        "type(x) # This is a series "
      ],
      "execution_count":0,
      "outputs":[
        
      ],
      "metadata":{
        
      }
    },
    {
      "cell_type":"code",
      "source":[
        "x = df['SepalLengthCm']\n",
        "type(x) # This is series"
      ],
      "execution_count":0,
      "outputs":[
        
      ],
      "metadata":{
        
      }
    },
    {
      "cell_type":"code",
      "source":[
        "x = df.SepalLengthCm\n",
        "type(x) # This is seris"
      ],
      "execution_count":0,
      "outputs":[
        
      ],
      "metadata":{
        
      }
    },
    {
      "cell_type":"markdown",
      "source":[
        "#### iloc() multiple columns"
      ],
      "metadata":{
        
      }
    },
    {
      "cell_type":"code",
      "source":[
        "# Select columns, 2 and 3\n",
        "df.iloc[:, 3:5]. head() # 3:5 indicates, 3,4 (5 not inclusive)"
      ],
      "execution_count":0,
      "outputs":[
        
      ],
      "metadata":{
        
      }
    },
    {
      "cell_type":"code",
      "source":[
        "df.iloc[23]"
      ],
      "execution_count":0,
      "outputs":[
        
      ],
      "metadata":{
        
      }
    },
    {
      "cell_type":"markdown",
      "source":[
        "### Adding new columns to the dataframe"
      ],
      "metadata":{
        
      }
    },
    {
      "cell_type":"code",
      "source":[
        "## Add a column SepalRatio, PetalRatio that are length\/Width\n",
        "df['SepalRatio'] = df.SepalLengthCm\/df.SepalWidthCm\n",
        "df['PetallRatio'] = df.PetalLengthCm\/df.PetalWidthCm\n",
        "df.head()"
      ],
      "execution_count":0,
      "outputs":[
        
      ],
      "metadata":{
        
      }
    },
    {
      "cell_type":"markdown",
      "source":[
        "### Adding new rows to the dataframe"
      ],
      "metadata":{
        
      }
    },
    {
      "cell_type":"code",
      "source":[
        "# Get a row from the df and add the same thing to df\n",
        "newrow = df.loc[[23]]"
      ],
      "execution_count":0,
      "outputs":[
        
      ],
      "metadata":{
        
      }
    },
    {
      "cell_type":"code",
      "source":[
        "newrow"
      ],
      "execution_count":0,
      "outputs":[
        
      ],
      "metadata":{
        
      }
    },
    {
      "cell_type":"code",
      "source":[
        "# Adding at the last row + 1 position\n",
        "df.loc[df.index.max()+1] = list(newrow)"
      ],
      "execution_count":0,
      "outputs":[
        
      ],
      "metadata":{
        
      }
    },
    {
      "cell_type":"code",
      "source":[
        "df.shape"
      ],
      "execution_count":0,
      "outputs":[
        
      ],
      "metadata":{
        
      }
    },
    {
      "cell_type":"code",
      "source":[
        
      ],
      "execution_count":0,
      "outputs":[
        
      ],
      "metadata":{
        
      }
    }
  ],
  "metadata":{
    
  },
  "nbformat":4,
  "nbformat_minor":0
}