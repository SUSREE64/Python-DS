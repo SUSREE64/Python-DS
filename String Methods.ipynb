{
  "cells":[
    {
      "cell_type":"markdown",
      "source":[
        "<h2 style=\"text-align:center; color:rgb(113, 163, 242); font-size: 32px\">Learning Python - String Methods<\/h2>"
      ],
      "metadata":{
        
      }
    },
    {
      "cell_type":"markdown",
      "source":[
        "## String Methods\n",
        "\n",
        "<ul> \n",
        "\n",
        "    <li> [**capitalize()**](#capitalize)\t---- Converts the first character to upper case       <\/li>\n",
        "    <li> [**casefold()**](#casefold)---- \tConverts string into lower case       <\/li>\n",
        "    <li> [**count()**](#count)      \tReturns the number of times a specified value occurs in a string<\/li>\n",
        "    <li> [**centre()**](#center)      \tReturns an encoded version of the string       <\/li>\n",
        "    <li> [**encode()**](#encode)     \tReturns an encoded version of the string       <\/li>\n",
        "    <li> [**endswith()**](#endswith) \tReturns true if the string ends with the specified value    <\/li>\n",
        "    <li> [**expandtabs()**](#expandtabs)\tSets the tab size of the string<\/li>\n",
        "    <li> [**find()**](#find)      \tSearches the string for a specified value and returns the position of where it was found<\/li>\n",
        "    <li> **format_map()**\tFormats specified values in a string     <\/li>\n",
        "    <li> [**index()**](#index)\tSearches the string for a specified value and returns the position of where it was found     <\/li>\n",
        "    <li> [**isalnum()**](#isalnum)\tReturns True if all characters in the string are alphanumeric     <\/li>\n",
        "    <li> [**isalpha()**](#isalpha)\tReturns True if all characters in the string are in the alphabet     <\/li>\n",
        "    <li> [**isdecimal()**](#isdecimal)\tReturns True if all characters in the string are decimals     <\/li>\n",
        "    <li> **isdigit()**\tReturns True if all characters in the string are digits    <\/li>\n",
        "    <li> **isidentifier()**\tReturns True if the string is an identifier  <\/li>\n",
        "    <li> **isdigit()**\tReturns True if all characters in the string are digits    <\/li>\n",
        "    <li> **isdigit()**\tReturns True if all characters in the string are digits    <\/li>\n",
        "    <li> **isdigit()**\tReturns True if all characters in the string are digits    <\/li>\n",
        "    <li> **isdigit()**\tReturns True if all characters in the string are digits    <\/li>\n",
        "    <li>**islower()**\tReturns True if all characters in the string are lower case<\/li>\n",
        "    <li>**isnumeric()**\tReturns True if all characters in the string are numeric<\/li>\n",
        "    <li>**sprintable()**\tReturns True if all characters in the string are printable<\/li>\n",
        "    <li>**isspace()**\tReturns True if all characters in the string are whitespaces<\/li>\n",
        "    <li>**istitle()**\tReturns True if the string follows the rules of a title<\/li>\n",
        "    <li>**isupper()**\tReturns True if all characters in the string are upper case<\/li>\n",
        "    <li>**join()**\tJoins the elements of an iterable to the end of the string<\/li>\n",
        "    <li>**ljust()**\tReturns a left justified version of the string<\/li>\n",
        "    <li>**lower()**\tConverts a string into lower case<\/li>\n",
        "    <li>**lstrip()**\tReturns a left trim version of the string<\/li>\n",
        "    <li>[**maketrans()**](#maketrans)\tReturns a translation table to be used in translations<\/li>\n",
        "    <li>**partition()**\tReturns a tuple where the string is parted into three parts<\/li>\n",
        "    <li>**replace()**\tReturns a string where a specified value is replaced with a specified value<\/li>\n",
        "    <li>**rfind()**\tSearches the string for a specified value and returns the last position of where it was found<\/li>\n",
        "    <li>**rindex()**\tSearches the string for a specified value and returns the last position of where it was found<\/li>\n",
        "    <li>**rjust()**\tReturns a right justified version of the string<\/li>\n",
        "    <li>**rpartition()**\tReturns a tuple where the string is parted into three parts<\/li>\n",
        "    <li>**rsplit()**\tSplits the string at the specified separator, and returns a list<\/li>\n",
        "    <li>**rstrip()**\tReturns a right trim version of the string<\/li>\n",
        "    <li>**split()**\tSplits the string at the specified separator, and returns a list<\/li>\n",
        "    <li>**splitlines()**\tSplits the string at line breaks and returns a list<\/li>\n",
        "    <li>**startswith()**\tReturns true if the string starts with the specified value<\/li>\n",
        "    <li>**strip()**\tReturns a trimmed version of the string<\/li>\n",
        "    <li>**swapcase()**\tSwaps cases, lower case becomes upper case and vice versa<\/li>\n",
        "    <li>**title()**\tConverts the first character of each word to upper case<\/li>\n",
        "    <li>**translate()**\tReturns a translated string<\/li>\n",
        "    <li>**upper()**\tConverts a string into upper case<\/li>\n",
        "    <li>**zfill()**\tFills the string with a specified number of 0 values at the beginning<\/li>\n",
        "\n",
        "\n",
        "\n",
        "\n",
        "\n",
        "\n",
        "<\/ul>"
      ],
      "metadata":{
        
      }
    },
    {
      "cell_type":"markdown",
      "source":[
        "<a name=\"capitalize\">\n",
        "   capitalize() -- First letter of the string gets capitalized\n",
        "<\/a>"
      ],
      "metadata":{
        
      }
    },
    {
      "cell_type":"code",
      "source":[
        "'sree'.capitalize()#First letter gets capitalized"
      ],
      "execution_count":null,
      "outputs":[
        
      ],
      "metadata":{
        
      }
    },
    {
      "cell_type":"markdown",
      "source":[
        "<a name=\"casefold\">\n",
        "   casefold() -- This converts the string to lower case\n",
        "<\/a>    "
      ],
      "metadata":{
        
      }
    },
    {
      "cell_type":"code",
      "source":[
        "txt = 'Hello Dear How are you ?'\n",
        "txt.casefold()"
      ],
      "execution_count":null,
      "outputs":[
        
      ],
      "metadata":{
        
      }
    },
    {
      "cell_type":"markdown",
      "source":[
        "<a name ='count'>\n",
        "    count() - This counts occurance of substring or character\n",
        " <\/a>   "
      ],
      "metadata":{
        
      }
    },
    {
      "cell_type":"code",
      "source":[
        "txt.count('r')"
      ],
      "execution_count":null,
      "outputs":[
        
      ],
      "metadata":{
        
      }
    },
    {
      "cell_type":"code",
      "source":[
        "txt = \"Hello! Dear Raju and Dear Rani\"\n",
        "txt.count('Dea')"
      ],
      "execution_count":null,
      "outputs":[
        
      ],
      "metadata":{
        
      }
    },
    {
      "cell_type":"markdown",
      "source":[
        "<a name = 'center'>\n",
        "    center(length,fill char)\n",
        "<\/a>"
      ],
      "metadata":{
        
      }
    },
    {
      "cell_type":"markdown",
      "source":[
        "<p>\n",
        "    **string.center(length[, fillchar])**\n",
        "<\/p>\n",
        "<p>\n",
        "<div>\n",
        "**Parameters:**\n",
        "<\/div>    \n",
        "length: length of the string after padding with the characters.\n",
        "<br>\n",
        "fillchar:(optional) characters which needs to be padded.\n",
        "<br>\n",
        "If it's not provided, space is taken as default argument.\n",
        "<div>\n",
        "Returns:\n",
        "returns a string padded with specified fillchar and it doesn't modify \n",
        "the original string.\n",
        "<div>    \n",
        "<\/p>"
      ],
      "metadata":{
        
      }
    },
    {
      "cell_type":"code",
      "source":[
        "txt = \"Horse is an animal\"\n",
        "newstring =txt.center(30,'@')\n",
        "newstring # the result is padded with character @ and the total length is taken to 30 characters "
      ],
      "execution_count":null,
      "outputs":[
        
      ],
      "metadata":{
        
      }
    },
    {
      "cell_type":"code",
      "source":[
        "len(newstring)"
      ],
      "execution_count":null,
      "outputs":[
        
      ],
      "metadata":{
        
      }
    },
    {
      "cell_type":"code",
      "source":[
        "word = \"Hello\"\n",
        "word.center(30) # while space is used around the word as fillchar"
      ],
      "execution_count":null,
      "outputs":[
        
      ],
      "metadata":{
        
      }
    },
    {
      "cell_type":"markdown",
      "source":[
        "<a name = \"encode\"> encode()<\/a>"
      ],
      "metadata":{
        
      }
    },
    {
      "cell_type":"code",
      "source":[
        "#string.encode(encoding=encoding, errors=errors)\n",
        "txt = 'MY name is sree'\n",
        "print(txt.encode(encoding=\"ascii\",errors=\"backslashreplace\"))\n",
        "print(txt.encode(encoding=\"ascii\",errors=\"ignore\"))\n",
        "print(txt.encode(encoding=\"ascii\",errors=\"namereplace\"))\n",
        "print(txt.encode(encoding=\"ascii\",errors=\"replace\"))\n",
        "print(txt.encode(encoding=\"ascii\",errors=\"xmlcharrefreplace\"))\n",
        "print(txt.encode(encoding=\"ascii\",errors=\"strict\"))"
      ],
      "execution_count":null,
      "outputs":[
        
      ],
      "metadata":{
        
      }
    },
    {
      "cell_type":"markdown",
      "source":[
        "<a name = endswith> endswith()<\/a>"
      ],
      "metadata":{
        
      }
    },
    {
      "cell_type":"code",
      "source":[
        "txt = \"Rose is beautiful\"\n",
        "txt.endswith(\"ful\")"
      ],
      "execution_count":null,
      "outputs":[
        
      ],
      "metadata":{
        
      }
    },
    {
      "cell_type":"code",
      "source":[
        "txt.endswith('s')"
      ],
      "execution_count":null,
      "outputs":[
        
      ],
      "metadata":{
        
      }
    },
    {
      "cell_type":"markdown",
      "source":[
        "<a name = \"expandtabs\"> expandtabs()<\/a>"
      ],
      "metadata":{
        
      }
    },
    {
      "cell_type":"code",
      "source":[
        "txt = \"H\\te\\tl\\tl\\to\" #\\ denotes tab\n",
        "x =  txt.expandtabs(30)\n",
        "print(txt) # print as it is\n",
        "print(x) # print after expanding tabs"
      ],
      "execution_count":null,
      "outputs":[
        
      ],
      "metadata":{
        
      }
    },
    {
      "cell_type":"markdown",
      "source":[
        "<a name= find> find()<\/a>"
      ],
      "metadata":{
        
      }
    },
    {
      "cell_type":"code",
      "source":[
        "txt = \" Hi How do you do?\" \n",
        "txt.find('do')# returns of index at the first occurance of 'do'"
      ],
      "execution_count":null,
      "outputs":[
        
      ],
      "metadata":{
        
      }
    },
    {
      "cell_type":"code",
      "source":[
        "txt.find(\"?\")"
      ],
      "execution_count":null,
      "outputs":[
        
      ],
      "metadata":{
        
      }
    },
    {
      "cell_type":"code",
      "source":[
        "txt.find(\"_\")# if the search substring not found, this returns -1"
      ],
      "execution_count":null,
      "outputs":[
        
      ],
      "metadata":{
        
      }
    },
    {
      "cell_type":"markdown",
      "source":[
        "<a name = index> index()<\/a>"
      ],
      "metadata":{
        
      }
    },
    {
      "cell_type":"code",
      "source":[
        "#index and find are same if the substring is found\n",
        "#index works on lists also\n",
        "#index returns error if the substring not found\n",
        "#find is applicable only for string, and does not work with lists\n",
        "txt = \"Rose is beautiful\"\n",
        "txt.index('s') # first occurance of s"
      ],
      "execution_count":null,
      "outputs":[
        
      ],
      "metadata":{
        
      }
    },
    {
      "cell_type":"markdown",
      "source":[
        "<a name = isalnum> isalnum()<\/a>"
      ],
      "metadata":{
        
      }
    },
    {
      "cell_type":"code",
      "source":[
        "#The isalnum() method returns True if all the characters are alphanumeric, meaning alphabet letter (a-z) and numbers (0-9)\n",
        "text = \"hello\"\n",
        "alpha_num = '0123456'\n",
        "alpha_num.isalnum()\n",
        "text1 = \"#12&\""
      ],
      "execution_count":null,
      "outputs":[
        
      ],
      "metadata":{
        
      }
    },
    {
      "cell_type":"code",
      "source":[
        "text.isalnum() # returns true"
      ],
      "execution_count":null,
      "outputs":[
        
      ],
      "metadata":{
        
      }
    },
    {
      "cell_type":"code",
      "source":[
        "alpha_num.isalnum()"
      ],
      "execution_count":null,
      "outputs":[
        
      ],
      "metadata":{
        
      }
    },
    {
      "cell_type":"code",
      "source":[
        "text1.isalnum() # this returns false as this text1 has some non alphanumerical characters"
      ],
      "execution_count":null,
      "outputs":[
        
      ],
      "metadata":{
        
      }
    },
    {
      "cell_type":"markdown",
      "source":[
        "<a name=isalpha>isalpha()<\/a>"
      ],
      "metadata":{
        
      }
    },
    {
      "cell_type":"code",
      "source":[
        "text = 'abcd1234'\n",
        "text.isalpha()"
      ],
      "execution_count":null,
      "outputs":[
        
      ],
      "metadata":{
        
      }
    },
    {
      "cell_type":"code",
      "source":[
        "text = 'abcdef'\n",
        "text.isalpha()"
      ],
      "execution_count":null,
      "outputs":[
        
      ],
      "metadata":{
        
      }
    },
    {
      "cell_type":"code",
      "source":[
        "text = '^#2@'\n",
        "text.isalpha()"
      ],
      "execution_count":null,
      "outputs":[
        
      ],
      "metadata":{
        
      }
    },
    {
      "cell_type":"markdown",
      "source":[
        "<a name = 'isdecimal'>**isdecimal()**<\/a> <br>\n",
        "**The isdecimal() method returns True if all the characters are decimals (0-9).**"
      ],
      "metadata":{
        
      }
    },
    {
      "cell_type":"code",
      "source":[
        "txt = '01234'\n",
        "txt.isdecimal()"
      ],
      "execution_count":null,
      "outputs":[
        
      ],
      "metadata":{
        
      }
    },
    {
      "cell_type":"code",
      "source":[
        "txt = '1234rtyu'\n",
        "txt.isdecimal()"
      ],
      "execution_count":null,
      "outputs":[
        
      ],
      "metadata":{
        
      }
    },
    {
      "cell_type":"code",
      "source":[
        "'?'.isdecimal()"
      ],
      "execution_count":null,
      "outputs":[
        
      ],
      "metadata":{
        
      }
    },
    {
      "cell_type":"markdown",
      "source":[
        "<a name= isdigit>isdigit()<\/a><br>\n",
        "<p>The difference between **str.isdigit()** and **str.isdecimal()** in Python is, for most of us, academic and can be used interchangeably. According to the Python documentation, the decimal category “includes digit characters, and all characters that can be used to form decimal-radix numbers, e.g. U+0660, ARABIC-INDIC DIGIT ZERO.”<\/p>\n",
        "<p>\n",
        "So, all decimals are digits, but not all digits are decimals. It turns out that most are though. Here’s a small Python script that returns the Unicode characters that are decimals but not digits.\n",
        "\n",
        "<\/P>"
      ],
      "metadata":{
        
      }
    },
    {
      "cell_type":"code",
      "source":[
        "\"?\".isdigit()"
      ],
      "execution_count":null,
      "outputs":[
        
      ],
      "metadata":{
        
      }
    },
    {
      "cell_type":"code",
      "source":[
        "\"a\".isdigit()"
      ],
      "execution_count":null,
      "outputs":[
        
      ],
      "metadata":{
        
      }
    },
    {
      "cell_type":"code",
      "source":[
        "\"1234\".isdigit()"
      ],
      "execution_count":null,
      "outputs":[
        
      ],
      "metadata":{
        
      }
    },
    {
      "cell_type":"markdown",
      "source":[
        "<a name= maketrans>maketrans()<\/a><br>"
      ],
      "metadata":{
        
      }
    },
    {
      "cell_type":"code",
      "source":[
        "tr=str.maketrans('015','OIS')\n",
        "\n",
        "def correct(string):\n",
        "    return string.translate(tr)\n",
        "correct(\"Hell0, 15 this 0k\")"
      ],
      "execution_count":null,
      "outputs":[
        
      ],
      "metadata":{
        
      }
    },
    {
      "cell_type":"code",
      "source":[
        
      ],
      "execution_count":null,
      "outputs":[
        
      ],
      "metadata":{
        
      }
    }
  ],
  "metadata":{
    
  },
  "nbformat":4,
  "nbformat_minor":0
}