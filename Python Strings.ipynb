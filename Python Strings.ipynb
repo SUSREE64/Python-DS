{
  "cells":[
    {
      "cell_type":"markdown",
      "source":[
        "<h2 style=\"text-align:center; color:rgb(113, 163, 242); font-size: 32px\">Learning Python - Strings<\/h2>"
      ],
      "metadata":{
        
      }
    },
    {
      "cell_type":"code",
      "source":[
        "# single characters and sequence of characters all are strings in python \n",
        "# single quotes '' and double \"\" both are oK. \n",
        "#Python does not have a character data type a single character is also a string with length 1\n",
        "char = 'a'\n",
        "type(char)"
      ],
      "execution_count":1,
      "outputs":[
        {
          "data":{
            "text\/plain":[
              "str"
            ]
          },
          "metadata":{
            
          },
          "output_type":"display_data"
        }
      ],
      "metadata":{
        
      }
    },
    {
      "cell_type":"code",
      "source":[
        "str = \"sree\"\n",
        "type(str)"
      ],
      "execution_count":2,
      "outputs":[
        {
          "data":{
            "text\/plain":[
              "str"
            ]
          },
          "metadata":{
            
          },
          "output_type":"display_data"
        }
      ],
      "metadata":{
        
      }
    },
    {
      "cell_type":"markdown",
      "source":[
        "<p> Somer features of strings.<\/P>\n",
        "    <ul>\n",
        "    <li>Strings are <b>immutable<\/b>, which means you cannot change an existing string.<\/li>\n",
        "    <li>Strings are <b>indexable<\/b>, which means you cannot index individual characters of string.<\/li>\n",
        "    <li>Strings are <b>collection data types<\/b> which means it can hold multiple collecton <li>\n",
        "    <li>There are some pre defined methods that are useful on strings <\/li>\n",
        "    <\/ul>\n",
        "    \n",
        "<\/p>    "
      ],
      "metadata":{
        
      }
    },
    {
      "cell_type":"code",
      "source":[
        "empty_str = \"\""
      ],
      "execution_count":3,
      "outputs":[
        
      ],
      "metadata":{
        
      }
    },
    {
      "cell_type":"code",
      "source":[
        "print(empty_str)"
      ],
      "execution_count":4,
      "outputs":[
        {
          "name":"stdout",
          "text":[
            "\n"
          ],
          "output_type":"stream"
        }
      ],
      "metadata":{
        
      }
    },
    {
      "cell_type":"code",
      "source":[
        "# We can not perform mathematical operatons on strings\n",
        "# except string concetenation with + operator\n",
        "# excpet string repeatation with * operator\n",
        "first_name = 'S'\n",
        "last_name = \"Sree\"\n",
        "name = first_name+ \".\" + last_name # Adding 3 strings cancatenating to form a single string\n",
        "print(name)"
      ],
      "execution_count":5,
      "outputs":[
        {
          "name":"stdout",
          "text":[
            "S.Sree\n"
          ],
          "output_type":"stream"
        }
      ],
      "metadata":{
        
      }
    },
    {
      "cell_type":"code",
      "source":[
        "# String repeatation\n",
        "'Hi '*5"
      ],
      "execution_count":6,
      "outputs":[
        {
          "data":{
            "text\/plain":[
              "'Hi Hi Hi Hi Hi '"
            ]
          },
          "metadata":{
            
          },
          "output_type":"display_data"
        }
      ],
      "metadata":{
        
      }
    },
    {
      "cell_type":"markdown",
      "source":[
        "<h3 style = color:rgb(113,163,242)> Python String Indexing<\/h3>"
      ],
      "metadata":{
        
      }
    },
    {
      "cell_type":"markdown",
      "source":[
        "#### _strings indexing explained_\n",
        "![String_notation](index_notation.png \"Title\")"
      ],
      "metadata":{
        
      }
    },
    {
      "cell_type":"code",
      "source":[
        "# Indexing string elements\n",
        "# Python uses 0 indexing \n",
        "# each index output is another string\n",
        "\n",
        "name = \"John Miller\"\n",
        "name[0]"
      ],
      "execution_count":7,
      "outputs":[
        {
          "data":{
            "text\/plain":[
              "'J'"
            ]
          },
          "metadata":{
            
          },
          "output_type":"display_data"
        }
      ],
      "metadata":{
        
      }
    },
    {
      "cell_type":"code",
      "source":[
        "name[-1] #the last character"
      ],
      "execution_count":8,
      "outputs":[
        {
          "data":{
            "text\/plain":[
              "'r'"
            ]
          },
          "metadata":{
            
          },
          "output_type":"display_data"
        }
      ],
      "metadata":{
        
      }
    },
    {
      "cell_type":"code",
      "source":[
        "# The strings are immutable \n",
        "# we can not change a character like below\n",
        "name[0] = 'T' # Error results as TypeError: 'str' object does not support item assignment"
      ],
      "execution_count":9,
      "outputs":[
        {
          "ename":"TypeError",
          "evalue":"TypeError: 'str' object does not support item assignment",
          "traceback":[
            "\u001b[0;31m---------------------------------------------------------------------------",
            "Traceback (most recent call last)",
            "    at line 3 in <module>",
            "TypeError: 'str' object does not support item assignment"
          ],
          "output_type":"error"
        }
      ],
      "metadata":{
        
      }
    },
    {
      "cell_type":"code",
      "source":[
        "name [2:6] # str[start : end] "
      ],
      "execution_count":10,
      "outputs":[
        {
          "data":{
            "text\/plain":[
              "'hn M'"
            ]
          },
          "metadata":{
            
          },
          "output_type":"display_data"
        }
      ],
      "metadata":{
        
      }
    },
    {
      "cell_type":"code",
      "source":[
        "name[3:]# str[start : all]"
      ],
      "execution_count":11,
      "outputs":[
        {
          "data":{
            "text\/plain":[
              "'n Miller'"
            ]
          },
          "metadata":{
            
          },
          "output_type":"display_data"
        }
      ],
      "metadata":{
        
      }
    },
    {
      "cell_type":"code",
      "source":[
        "name[:3] #str[0: end]"
      ],
      "execution_count":12,
      "outputs":[
        {
          "data":{
            "text\/plain":[
              "'Joh'"
            ]
          },
          "metadata":{
            
          },
          "output_type":"display_data"
        }
      ],
      "metadata":{
        
      }
    },
    {
      "cell_type":"markdown",
      "source":[
        "<h3 style = color:rgb(113,163,242)> Python String Slicing<\/h3>"
      ],
      "metadata":{
        
      }
    },
    {
      "cell_type":"code",
      "source":[
        "# slicing is to create substrings from a main string\n",
        "#string_name[beginning: end : step]\n",
        "#to understand this better let us use a string\n",
        "abc = '0123456789'"
      ],
      "execution_count":13,
      "outputs":[
        
      ],
      "metadata":{
        
      }
    },
    {
      "cell_type":"code",
      "source":[
        "abc[0:9:2] # 0 to 9 with a step of 2 ( alternate ones)"
      ],
      "execution_count":14,
      "outputs":[
        {
          "data":{
            "text\/plain":[
              "'02468'"
            ]
          },
          "metadata":{
            
          },
          "output_type":"display_data"
        }
      ],
      "metadata":{
        
      }
    },
    {
      "cell_type":"code",
      "source":[
        "abc[::2] #This is equivalent to the same as above"
      ],
      "execution_count":15,
      "outputs":[
        {
          "data":{
            "text\/plain":[
              "'02468'"
            ]
          },
          "metadata":{
            
          },
          "output_type":"display_data"
        }
      ],
      "metadata":{
        
      }
    },
    {
      "cell_type":"code",
      "source":[
        "abc[0::] # Get the full string"
      ],
      "execution_count":16,
      "outputs":[
        {
          "data":{
            "text\/plain":[
              "'0123456789'"
            ]
          },
          "metadata":{
            
          },
          "output_type":"display_data"
        }
      ],
      "metadata":{
        
      }
    },
    {
      "cell_type":"code",
      "source":[
        "abc[0:] # This is same as above"
      ],
      "execution_count":17,
      "outputs":[
        {
          "data":{
            "text\/plain":[
              "'0123456789'"
            ]
          },
          "metadata":{
            
          },
          "output_type":"display_data"
        }
      ],
      "metadata":{
        
      }
    },
    {
      "cell_type":"code",
      "source":[
        "abc[-1:-11:-1]"
      ],
      "execution_count":18,
      "outputs":[
        {
          "data":{
            "text\/plain":[
              "'9876543210'"
            ]
          },
          "metadata":{
            
          },
          "output_type":"display_data"
        }
      ],
      "metadata":{
        
      }
    },
    {
      "cell_type":"code",
      "source":[
        "# Reversing a string using slicing\n",
        "name[::-1]"
      ],
      "execution_count":19,
      "outputs":[
        {
          "data":{
            "text\/plain":[
              "'relliM nhoJ'"
            ]
          },
          "metadata":{
            
          },
          "output_type":"display_data"
        }
      ],
      "metadata":{
        
      }
    },
    {
      "cell_type":"code",
      "source":[
        "abc[::-1]"
      ],
      "execution_count":20,
      "outputs":[
        {
          "data":{
            "text\/plain":[
              "'9876543210'"
            ]
          },
          "metadata":{
            
          },
          "output_type":"display_data"
        }
      ],
      "metadata":{
        
      }
    },
    {
      "cell_type":"code",
      "source":[
        "# Finding if a substring exists in a  bigger string\n",
        "sentence = 'Hello How do you do sir?, I am aged 35.'\n",
        "# find if 'age' sbustring exits\n",
        "def find(sent, sub_str):\n",
        "    return sub_str in sent\n",
        "print(find(sentence, 'age'))    \n",
        "print(find(sentence, 'now'))"
      ],
      "execution_count":24,
      "outputs":[
        {
          "name":"stdout",
          "text":[
            "True\n",
            "False\n"
          ],
          "output_type":"stream"
        }
      ],
      "metadata":{
        
      }
    },
    {
      "cell_type":"code",
      "source":[
        
      ],
      "execution_count":20,
      "outputs":[
        
      ],
      "metadata":{
        
      }
    },
    {
      "cell_type":"code",
      "source":[
        
      ],
      "execution_count":20,
      "outputs":[
        
      ],
      "metadata":{
        
      }
    },
    {
      "cell_type":"code",
      "source":[
        
      ],
      "execution_count":0,
      "outputs":[
        
      ],
      "metadata":{
        
      }
    }
  ],
  "metadata":{
    
  },
  "nbformat":4,
  "nbformat_minor":0
}