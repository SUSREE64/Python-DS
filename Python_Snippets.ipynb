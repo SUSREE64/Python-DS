{
  "cells":[
    {
      "cell_type":"markdown",
      "source":[
        
      ],
      "metadata":{
        
      }
    },
    {
      "cell_type":"markdown",
      "source":[
        "## This is a python coding snipptes reference work "
      ],
      "metadata":{
        
      }
    },
    {
      "cell_type":"code",
      "source":[
        "# Just to print  \"Hello World\"\n",
        "greeting = \"Hello World\"\n",
        "print(greeting)"
      ],
      "execution_count":null,
      "outputs":[
        
      ],
      "metadata":{
        
      }
    },
    {
      "cell_type":"code",
      "source":[
        "# Another way of printing \n",
        "name = \"sree\"\n",
        "greeting = f\"Hello, {name}\"\n",
        "print(greeting)"
      ],
      "execution_count":null,
      "outputs":[
        
      ],
      "metadata":{
        
      }
    },
    {
      "cell_type":"code",
      "source":[
        "# Simple arithmetic\n",
        "a = 10\n",
        "b = 20\n",
        "print(\"Sum\", a+b)\n",
        "print(\"difference\", abs(a-b))\n",
        "print( \"division a\/b\", a\/b)\n",
        "print(\"multiplication a*b\", a*b)\n",
        "print(\"Modulo operation of a, b\", a%b)\n",
        "print( \"Square of a\", a**2)\n",
        "print(\"Square root of a\", a**0.5)"
      ],
      "execution_count":null,
      "outputs":[
        
      ],
      "metadata":{
        
      }
    },
    {
      "cell_type":"code",
      "source":[
        "# Another way of printing longer phrases with format function\n",
        "longer_phrase = \"Hello, {}. Greetings for the {}\"\n",
        "name = \"sree\"; event = \"Birthday\"\n",
        "formatted = longer_phrase.format(name, event)\n",
        "print(formatted)"
      ],
      "execution_count":null,
      "outputs":[
        
      ],
      "metadata":{
        
      }
    },
    {
      "cell_type":"code",
      "source":[
        "# Data types\n",
        "output = \"The varible is, {} is of  {} type\"\n",
        "value = 10\n",
        "print(output.format(value, type(value)))\n",
        "value = 2.3\n",
        "print(output.format(value, type(value)))\n",
        "value = \"sree\"\n",
        "print(output.format(value, type(value)))"
      ],
      "execution_count":null,
      "outputs":[
        
      ],
      "metadata":{
        
      }
    },
    {
      "cell_type":"markdown",
      "source":[
        "### Lists"
      ],
      "metadata":{
        
      }
    },
    {
      "cell_type":"code",
      "source":[
        "# Lists are collection of dissimilar items\n",
        "lst = ['sree', 'gita', 'Jesus', 10, 30]\n",
        "print(\"List when printed looks like this\", lst)\n",
        "# You can add elements to lists\n",
        "lst.append(\"Added\")\n",
        "print('after adding element', lst)\n",
        "# you can remove an element from list\n",
        "lst.remove(10)\n",
        "print(\"After removing the elenent 10\", lst)\n",
        "# We can insert new elements in a list at an Index\n",
        "lst.insert(2, \"SecondIndex\")\n",
        "print(\"After inserting the element at 2nd Indix\", lst)\n",
        "# We can get the index of an element from a list\n",
        "# suppose we want to get the index of 'Jesus' element\n",
        "print(\"The index of element Jesus is \", lst.index(\"Jesus\"))"
      ],
      "execution_count":null,
      "outputs":[
        
      ],
      "metadata":{
        
      }
    },
    {
      "cell_type":"code",
      "source":[
        "# Sorting a numbers list\n",
        "numlst = [23, 43, 7, 8, 9, 10]\n",
        "numlst.sort()\n",
        "print(\"The sorted list is \", numlst)"
      ],
      "execution_count":null,
      "outputs":[
        
      ],
      "metadata":{
        
      }
    },
    {
      "cell_type":"code",
      "source":[
        "# Sorting with deceding order \n",
        "numlst = [2,3,56,1, 0, -10, 56]\n",
        "numlst.sort(reverse = True)\n",
        "print(\"Sorted list with decending order \", numlst)"
      ],
      "execution_count":null,
      "outputs":[
        
      ],
      "metadata":{
        
      }
    },
    {
      "cell_type":"code",
      "source":[
        "# Reversing a list \n",
        "numlst = [2,3,10, 'sree', 'hello']\n",
        "numlst.reverse()\n",
        "print(\"Reversed list is \", numlst)"
      ],
      "execution_count":null,
      "outputs":[
        
      ],
      "metadata":{
        
      }
    },
    {
      "cell_type":"code",
      "source":[
        "## List indexing \n",
        "lst = [1,2,3,5,8,10, 32]\n",
        "print(\"From index 2, to 3 list elements \", lst[2:4])\n",
        "print(\" Last element of the list is\", lst[-1])\n",
        "print(\" last to start (reverse) \", lst[::-1])\n",
        "print(\"From idex 2 to all rest\", lst[2:])"
      ],
      "execution_count":null,
      "outputs":[
        
      ],
      "metadata":{
        
      }
    },
    {
      "cell_type":"code",
      "source":[
        "# addressing element by element \n",
        "lst = [2,3,4,4,5,6,89, 90, 32]\n",
        "for item in lst:\n",
        "  print(\"item is \", item)"
      ],
      "execution_count":null,
      "outputs":[
        
      ],
      "metadata":{
        
      }
    },
    {
      "cell_type":"code",
      "source":[
        "# count of an element in a list\n",
        "lst = [1,2,3,2,2,2,5,6,7,10]\n",
        "print(\"The count of 2 in list\",lst.count(2))"
      ],
      "execution_count":null,
      "outputs":[
        
      ],
      "metadata":{
        
      }
    },
    {
      "cell_type":"code",
      "source":[
        "# Removing an element at a index \n",
        "lst = ['sr', 'jr', 'hi', 1, 2]\n",
        "print(\"Remove the item at index 2 \", lst.pop(2))\n",
        "print(\"After removing the items at 2 \",lst)"
      ],
      "execution_count":null,
      "outputs":[
        
      ],
      "metadata":{
        
      }
    },
    {
      "cell_type":"code",
      "source":[
        "# Extending the lists \n",
        "list1 = [1,2,3,4,5,6,7]\n",
        "list2 = [34,5,6,7]\n",
        "list1.extend(list2)\n",
        "print(\"Extended list ,\", list1)"
      ],
      "execution_count":null,
      "outputs":[
        
      ],
      "metadata":{
        
      }
    },
    {
      "cell_type":"code",
      "source":[
        "# list shallow copying \n",
        "lst = ['a', 'b', 'c','d']\n",
        "lstcopy = lst\n",
        "print(\"Copied list\", lstcopy)\n",
        "# if we change the lst by adding any element, lstcopy also changes as this is a shallow copy\n",
        "lst.append('m')\n",
        "print(\"Original list\", lst)\n",
        "print(\"shallow copy\", lstcopy)"
      ],
      "execution_count":null,
      "outputs":[
        
      ],
      "metadata":{
        
      }
    },
    {
      "cell_type":"code",
      "source":[
        "# Deep copy of the list\n",
        "lst = [1,1,2,3,3,3,5]\n",
        "lstDeepcopy = list.copy(lst)\n",
        "# now change the lst\n",
        "lst.append(\"new\")\n",
        "print(\"Original list \", lst)\n",
        "print(\"Deep copy \", lstDeepcopy)"
      ],
      "execution_count":null,
      "outputs":[
        
      ],
      "metadata":{
        
      }
    },
    {
      "cell_type":"markdown",
      "source":[
        "## Sets"
      ],
      "metadata":{
        
      }
    },
    {
      "cell_type":"code",
      "source":[
        "# a set is a collection of dissimilar elements.\n",
        "# a set can not have duplicate elements\n",
        "# a set is denoted by {} curly brackets\n",
        "set1 = {1,2,3,'1', '2', 3}\n",
        "print(set1)"
      ],
      "execution_count":null,
      "outputs":[
        
      ],
      "metadata":{
        
      }
    },
    {
      "cell_type":"code",
      "source":[
        "# You can see tha eventhough we initialized 3 two times, the result has only one 3"
      ],
      "execution_count":null,
      "outputs":[
        
      ],
      "metadata":{
        
      }
    },
    {
      "cell_type":"code",
      "source":[
        
      ],
      "execution_count":null,
      "outputs":[
        
      ],
      "metadata":{
        
      }
    },
    {
      "cell_type":"markdown",
      "source":[
        "### Set Operations "
      ],
      "metadata":{
        
      }
    },
    {
      "cell_type":"code",
      "source":[
        "set1 = {1,2,3,6,7}\n",
        "set2 = {1,2,3,10, 11, 12}\n",
        "# Adding an element to set1\n",
        "set1.add(\"Newly added\")\n",
        "print(\"After adding an element. \", set1)\n",
        "# Removing an element from a set1\n",
        "set1.remove(2)\n",
        "print(\"After Removing the element 2\", set1)"
      ],
      "execution_count":null,
      "outputs":[
        
      ],
      "metadata":{
        
      }
    },
    {
      "cell_type":"code",
      "source":[
        
      ],
      "execution_count":null,
      "outputs":[
        
      ],
      "metadata":{
        
      }
    },
    {
      "cell_type":"code",
      "source":[
        
      ],
      "execution_count":null,
      "outputs":[
        
      ],
      "metadata":{
        
      }
    }
  ],
  "metadata":{
    
  },
  "nbformat":4,
  "nbformat_minor":0
}