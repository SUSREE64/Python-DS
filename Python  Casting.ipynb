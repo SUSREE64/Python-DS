{
  "cells":[
    {
      "cell_type":"markdown",
      "source":[
        "<h2 style=\"text-align:center; color:rgb(113, 163, 242); font-size: 32px\">Learning Python - Type casting<\/h2>"
      ],
      "metadata":{
        
      }
    },
    {
      "cell_type":"markdown",
      "source":[
        "<p>There may be times when you want to specify a type on to a variable. This can be done with casting. Python is an object-orientated language, and as such it uses classes to define data types, including its primitive types.<\/p>\n",
        "\n",
        "<span ><b>Casting in python is done using constructor functions:<\/b><\/span>\n",
        "\n",
        "<span><b style = \"color:rgb(22, 103, 233)\">int ()<\/b> - constructs an integer number from an integer literal, a float literal (by rounding down to the previous whole number), or a string literal (providing the string represents a whole number)<\/span>\n",
        "\n",
        "<span><b style = \"color:rgb(22, 103, 233)\">float()<\/b> - constructs a float number from an integer literal, a float literal or a string literal (providing the string represents a float or an integer)<span>\n",
        "    \n",
        "<span><b style = \"color:rgb(22, 103, 233)\">str()<\/b> - constructs a string from a wide variety of data types, including strings, integer literals and float literals<\/span>"
      ],
      "metadata":{
        
      }
    },
    {
      "cell_type":"code",
      "source":[
        "# Converting a integer literal to integer\n",
        "int(\"50\")"
      ],
      "execution_count":null,
      "outputs":[
        
      ],
      "metadata":{
        
      }
    },
    {
      "cell_type":"code",
      "source":[
        "#converting a float to integer\n",
        "int(10.3) # integer portion of the float is returned"
      ],
      "execution_count":null,
      "outputs":[
        
      ],
      "metadata":{
        
      }
    },
    {
      "cell_type":"code",
      "source":[
        "# converting an integer to float\n",
        "float(10)"
      ],
      "execution_count":null,
      "outputs":[
        
      ],
      "metadata":{
        
      }
    },
    {
      "cell_type":"code",
      "source":[
        "#converting a string float literal into float\n",
        "float(\"10.3\")"
      ],
      "execution_count":null,
      "outputs":[
        
      ],
      "metadata":{
        
      }
    },
    {
      "cell_type":"code",
      "source":[
        "#converting a string int literal to float\n",
        "float(\"10\")"
      ],
      "execution_count":null,
      "outputs":[
        
      ],
      "metadata":{
        
      }
    },
    {
      "cell_type":"code",
      "source":[
        "# integer to string\n",
        "str(10)"
      ],
      "execution_count":null,
      "outputs":[
        
      ],
      "metadata":{
        
      }
    },
    {
      "cell_type":"code",
      "source":[
        "str(10.345678)"
      ],
      "execution_count":null,
      "outputs":[
        
      ],
      "metadata":{
        
      }
    },
    {
      "cell_type":"code",
      "source":[
        "str(\"sree\")"
      ],
      "execution_count":null,
      "outputs":[
        
      ],
      "metadata":{
        
      }
    },
    {
      "cell_type":"code",
      "source":[
        
      ],
      "execution_count":null,
      "outputs":[
        
      ],
      "metadata":{
        
      }
    }
  ],
  "metadata":{
    
  },
  "nbformat":4,
  "nbformat_minor":0
}