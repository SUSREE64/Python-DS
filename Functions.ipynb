{
  "cells":[
    {
      "cell_type":"markdown",
      "source":[
        "### Functions "
      ],
      "metadata":{
        
      }
    },
    {
      "cell_type":"code",
      "source":[
        "# The Function syntax\n",
        "# def functionname (arguments):\n",
        "#    function body code block\n",
        "#    retrun( result )\n"
      ],
      "execution_count":null,
      "outputs":[
        
      ],
      "metadata":{
        
      }
    },
    {
      "cell_type":"code",
      "source":[
        "def sum_up(a,b):\n",
        "    return(a+b)\n",
        "sum_up(20,33)"
      ],
      "execution_count":null,
      "outputs":[
        
      ],
      "metadata":{
        
      }
    },
    {
      "cell_type":"code",
      "source":[
        "# functions can be defined with optional parameters \n",
        "# if the arguments are missing default value is taken\n",
        "\n",
        "def sum_up(a = 2, b= 3):\n",
        "    return(a+b)\n",
        "print(sum_up(30,40)) # Here we have passed the required arguments\n",
        "print(sum_up()) # No arguments are passed hence the default ones are taken\n",
        "print(sum_up(34,)) # here argument b is assumed default value as it is not supplied"
      ],
      "execution_count":null,
      "outputs":[
        
      ],
      "metadata":{
        
      }
    },
    {
      "cell_type":"code",
      "source":[
        
      ],
      "execution_count":null,
      "outputs":[
        
      ],
      "metadata":{
        
      }
    }
  ],
  "metadata":{
    
  },
  "nbformat":4,
  "nbformat_minor":0
}